{
 "cells": [
  {
   "cell_type": "markdown",
   "id": "d548213d",
   "metadata": {},
   "source": [
    "# 卷积神经网络基础"
   ]
  },
  {
   "cell_type": "code",
   "execution_count": 1,
   "id": "c866e367",
   "metadata": {},
   "outputs": [],
   "source": [
    "import torch\n",
    "\n",
    "# torchversion是基于处理图像视频的pytorch包\n",
    "# torchvision.transforms提供一般的图像转换操作类\n",
    "from torchvision import transforms\n",
    "# torchvision.datasets 是用来进行数据加载的\n",
    "from torchvision import datasets\n",
    "\n",
    "\n",
    "from torch.utils.data import DataLoader\n",
    "\n",
    "import torch.nn.functional as F\n",
    "import torch.optim as optim\n",
    "import matplotlib.pyplot as plt\n"
   ]
  },
  {
   "cell_type": "code",
   "execution_count": 2,
   "id": "40681bfe",
   "metadata": {},
   "outputs": [],
   "source": [
    "# 准备数据\n",
    " \n",
    "batch_size = 64\n",
    "#我们拿到的图片是pillow,我们要把他转换成模型里能训练的tensor也就是张量的格式\n",
    "# ToTensor()转换为张量，Normalize归一化(均值和方差),都是经验值\n",
    "transform = transforms.Compose([transforms.ToTensor(), transforms.Normalize((0.1307,), (0.3081,))])\n",
    " \n",
    "# 训练集\n",
    "train_dataset = datasets.MNIST(root='../dataset/mnist/', train=True, download=True, transform=transform)\n",
    "train_loader = DataLoader(train_dataset, shuffle=True, batch_size=batch_size)\n",
    "# 测试集\n",
    "test_dataset = datasets.MNIST(root='../dataset/mnist/', train=False, download=True, transform=transform)\n",
    "test_loader = DataLoader(test_dataset, shuffle=False, batch_size=batch_size)\n",
    " "
   ]
  },
  {
   "cell_type": "code",
   "execution_count": 3,
   "id": "cec7f7f4",
   "metadata": {},
   "outputs": [
    {
     "data": {
      "text/plain": [
       "Net(\n",
       "  (conv1): Conv2d(1, 10, kernel_size=(5, 5), stride=(1, 1))\n",
       "  (conv2): Conv2d(10, 20, kernel_size=(5, 5), stride=(1, 1))\n",
       "  (pooling): MaxPool2d(kernel_size=2, stride=2, padding=0, dilation=1, ceil_mode=False)\n",
       "  (fc): Linear(in_features=320, out_features=10, bias=True)\n",
       ")"
      ]
     },
     "execution_count": 3,
     "metadata": {},
     "output_type": "execute_result"
    }
   ],
   "source": [
    "# 设计模型\n",
    " \n",
    " \n",
    "class Net(torch.nn.Module):\n",
    "    def __init__(self):\n",
    "        super(Net, self).__init__()\n",
    "        \n",
    "        # 1是指输入的Channel，每个卷积核的通道数量和输入的通道数量是一样的\n",
    "        # 10是指输出的Channel，卷积核的数量与输出的通道数量是一样的，要有10个卷积核；\n",
    "        # 卷积核是1x5x5      \n",
    "        self.conv1 = torch.nn.Conv2d(1, 10, kernel_size=5)\n",
    "        #  输入Channel为10；输出Channel为20，要有20个卷积核；卷积核是10x5x5        \n",
    "        self.conv2 = torch.nn.Conv2d(10, 20, kernel_size=5)\n",
    "        \n",
    "        # 下采样（最大池化层）通道数量不变        \n",
    "        self.pooling = torch.nn.MaxPool2d(2)\n",
    "        # 做分类用的线性层        \n",
    "        self.fc = torch.nn.Linear(320, 10)\n",
    " \n",
    " \n",
    "    def forward(self, x):\n",
    "        # flatten data from (batch,1,28,28) to (batch, 784)\n",
    "        \n",
    "        batch_size = x.size(0)\n",
    "        \n",
    "        # (batch,1,28,28) -> (batch,10,24,24) -> (batch,10,12,12)\n",
    "        x = F.relu(self.pooling(self.conv1(x)))\n",
    "        # (batch,10,12,12) -> (batch,20,88) -> (batch,20,4,4)        \n",
    "        x = F.relu(self.pooling(self.conv2(x)))\n",
    "        \n",
    "        # 改变张量形状，获得N*320的矩阵(batch,20,4,4)->(batch,320)\n",
    "        x = x.view(batch_size, -1) \n",
    "        # print(\"x.shape\",x.shape)\n",
    "        # 320 -> 10         \n",
    "        x = self.fc(x)\n",
    "        return x\n",
    " \n",
    " \n",
    "model = Net()\n",
    "# 把计算迁移到GPU\n",
    "device = torch.device(\"cuda\" if torch.cuda.is_available() else \"cpu\")\n",
    "model.to(device)\n",
    " "
   ]
  },
  {
   "cell_type": "code",
   "execution_count": 4,
   "id": "ff257675",
   "metadata": {},
   "outputs": [],
   "source": [
    "# 构造损失和优化器\n",
    "# 交叉熵损失 CrossEntropyLoss当训练有多个类别的分类问题时很有效\n",
    "# CrossEntropyLoss = Softmax + Log + NLLLoss\n",
    "criterion = torch.nn.CrossEntropyLoss()\n",
    "optimizer = optim.SGD(model.parameters(), lr=0.01, momentum=0.5)# #lr为学习率"
   ]
  },
  {
   "cell_type": "code",
   "execution_count": 5,
   "id": "e31f7035",
   "metadata": {},
   "outputs": [
    {
     "name": "stdout",
     "output_type": "stream",
     "text": [
      "[1,   300] loss: 0.630\n",
      "[1,   600] loss: 0.202\n",
      "[1,   900] loss: 0.144\n",
      "accuracy on test set: 96 % \n",
      "[2,   300] loss: 0.115\n",
      "[2,   600] loss: 0.101\n",
      "[2,   900] loss: 0.087\n",
      "accuracy on test set: 97 % \n",
      "[3,   300] loss: 0.081\n",
      "[3,   600] loss: 0.075\n",
      "[3,   900] loss: 0.072\n",
      "accuracy on test set: 97 % \n",
      "[4,   300] loss: 0.061\n",
      "[4,   600] loss: 0.067\n",
      "[4,   900] loss: 0.062\n",
      "accuracy on test set: 98 % \n",
      "[5,   300] loss: 0.053\n",
      "[5,   600] loss: 0.056\n",
      "[5,   900] loss: 0.056\n",
      "accuracy on test set: 98 % \n",
      "[6,   300] loss: 0.048\n",
      "[6,   600] loss: 0.049\n",
      "[6,   900] loss: 0.053\n",
      "accuracy on test set: 98 % \n",
      "[7,   300] loss: 0.042\n",
      "[7,   600] loss: 0.047\n",
      "[7,   900] loss: 0.045\n",
      "accuracy on test set: 98 % \n",
      "[8,   300] loss: 0.043\n",
      "[8,   600] loss: 0.041\n",
      "[8,   900] loss: 0.038\n",
      "accuracy on test set: 98 % \n",
      "[9,   300] loss: 0.038\n",
      "[9,   600] loss: 0.037\n",
      "[9,   900] loss: 0.041\n",
      "accuracy on test set: 98 % \n",
      "[10,   300] loss: 0.036\n",
      "[10,   600] loss: 0.033\n",
      "[10,   900] loss: 0.037\n",
      "accuracy on test set: 98 % \n"
     ]
    },
    {
     "data": {
      "image/png": "[encoded data removed]",
      "text/plain": [
       "<Figure size 432x288 with 1 Axes>"
      ]
     },
     "metadata": {
      "needs_background": "light"
     },
     "output_type": "display_data"
    }
   ],
   "source": [
    "# 训练\n",
    " \n",
    " \n",
    "def train(epoch):\n",
    "    running_loss = 0.0\n",
    "    # 对于一个可迭代的（iterable）/可遍历的对象（如列表、字符串），enumerate将其组成一个索引序列，利用它可以同时获得索引和值\n",
    "    # batch_idx显示迭代次数 \n",
    "    for batch_idx, data in enumerate(train_loader, 0):\n",
    "        inputs, target = data\n",
    "        inputs, target = inputs.to(device), target.to(device)\n",
    "        optimizer.zero_grad()\n",
    "        #  正馈        \n",
    "        outputs = model(inputs)\n",
    "        loss = criterion(outputs, target)\n",
    "        # 反馈        \n",
    "        loss.backward()\n",
    "        # 更新权重         \n",
    "        optimizer.step()\n",
    "        # 把损失加起来         \n",
    "        running_loss += loss.item()\n",
    "        #每300次输出一下数据\n",
    "        if batch_idx % 300 == 299:\n",
    "            print('[%d, %5d] loss: %.3f' % (epoch+1, batch_idx+1, running_loss/300))\n",
    "            running_loss = 0.0\n",
    " \n",
    " \n",
    "def test():\n",
    "    correct = 0\n",
    "    total = 0\n",
    "    #不用算梯度    \n",
    "    with torch.no_grad():\n",
    "        for data in test_loader:\n",
    "            images, labels = data\n",
    "            images, labels = images.to(device), labels.to(device)\n",
    "            outputs = model(images)\n",
    "            # 我们找每一行最大值的下标             \n",
    "            _, predicted = torch.max(outputs.data, dim=1)\n",
    "            total += labels.size(0)\n",
    "            correct += (predicted == labels).sum().item()\n",
    "    print('accuracy on test set: %d %% ' % (100*correct/total))\n",
    "    return correct/total\n",
    " \n",
    " \n",
    "if __name__ == '__main__':\n",
    "    epoch_list = []\n",
    "    acc_list = []\n",
    "    \n",
    "    for epoch in range(10):\n",
    "        train(epoch)\n",
    "        acc = test()\n",
    "        epoch_list.append(epoch)\n",
    "        acc_list.append(acc)\n",
    "    \n",
    "    plt.plot(epoch_list,acc_list)\n",
    "    plt.ylabel('accuracy')\n",
    "    plt.xlabel('epoch')\n",
    "    plt.show()\n"
   ]
  }
 ],
 "metadata": {
  "kernelspec": {
   "display_name": "Python 3",
   "language": "python",
   "name": "python3"
  },
  "language_info": {
   "codemirror_mode": {
    "name": "ipython",
    "version": 3
   },
   "file_extension": ".py",
   "mimetype": "text/x-python",
   "name": "python",
   "nbconvert_exporter": "python",
   "pygments_lexer": "ipython3",
   "version": "3.7.0"
  }
 },
 "nbformat": 4,
 "nbformat_minor": 5
}
