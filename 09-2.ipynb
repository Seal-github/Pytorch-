{
 "cells": [
  {
   "cell_type": "markdown",
   "id": "dcaf5519",
   "metadata": {},
   "source": [
    "# 卷积神经网络高级(跳连接)"
   ]
  },
  {
   "cell_type": "code",
   "execution_count": 1,
   "id": "26079f0f",
   "metadata": {},
   "outputs": [],
   "source": [
    "import torch\n",
    "\n",
    "# torchversion是基于处理图像视频的pytorch包\n",
    "# torchvision.transforms提供一般的图像转换操作类\n",
    "from torchvision import transforms\n",
    "# torchvision.datasets 是用来进行数据加载的\n",
    "from torchvision import datasets\n",
    "\n",
    "from torch.utils.data import DataLoader\n",
    "# 激活函数\n",
    "import torch.nn.functional as F\n",
    "import torch.optim as optim\n",
    "import matplotlib.pyplot as plt"
   ]
  },
  {
   "cell_type": "code",
   "execution_count": 2,
   "id": "0fe3a7c9",
   "metadata": {},
   "outputs": [],
   "source": [
    "# 准备数据\n",
    " \n",
    "batch_size = 64\n",
    "#我们拿到的图片是pillow,我们要把他转换成模型里能训练的tensor也就是张量的格式\n",
    "# ToTensor()转换为张量，Normalize归一化(均值和方差),都是经验值\n",
    "transform = transforms.Compose([transforms.ToTensor(), transforms.Normalize((0.1307,), (0.3081,))])\n",
    " \n",
    "# 训练集\n",
    "train_dataset = datasets.MNIST(root='../dataset/mnist/', train=True, download=True, transform=transform)\n",
    "train_loader = DataLoader(train_dataset, shuffle=True, batch_size=batch_size)\n",
    "# 测试集\n",
    "test_dataset = datasets.MNIST(root='../dataset/mnist/', train=False, download=True, transform=transform)\n",
    "test_loader = DataLoader(test_dataset, shuffle=False, batch_size=batch_size)"
   ]
  },
  {
   "cell_type": "code",
   "execution_count": 3,
   "id": "aa51fd09",
   "metadata": {},
   "outputs": [
    {
     "data": {
      "text/plain": [
       "Net(\n",
       "  (conv1): Conv2d(1, 16, kernel_size=(5, 5), stride=(1, 1))\n",
       "  (conv2): Conv2d(16, 32, kernel_size=(5, 5), stride=(1, 1))\n",
       "  (mp): MaxPool2d(kernel_size=2, stride=2, padding=0, dilation=1, ceil_mode=False)\n",
       "  (rblock1): ResidualBlock(\n",
       "    (conv1): Conv2d(16, 16, kernel_size=(3, 3), stride=(1, 1), padding=(1, 1))\n",
       "    (conv2): Conv2d(16, 16, kernel_size=(3, 3), stride=(1, 1), padding=(1, 1))\n",
       "  )\n",
       "  (rblock2): ResidualBlock(\n",
       "    (conv1): Conv2d(32, 32, kernel_size=(3, 3), stride=(1, 1), padding=(1, 1))\n",
       "    (conv2): Conv2d(32, 32, kernel_size=(3, 3), stride=(1, 1), padding=(1, 1))\n",
       "  )\n",
       "  (fc): Linear(in_features=512, out_features=10, bias=True)\n",
       ")"
      ]
     },
     "execution_count": 3,
     "metadata": {},
     "output_type": "execute_result"
    }
   ],
   "source": [
    "class ResidualBlock(torch.nn.Module):\n",
    "    def __init__(self, channels):\n",
    "        super(ResidualBlock, self).__init__()\n",
    "        self.channels = channels\n",
    "        # 输入通道=输出通道        \n",
    "        self.conv1 = torch.nn.Conv2d(channels, channels, kernel_size=3, padding=1)\n",
    "        self.conv2 = torch.nn.Conv2d(channels, channels, kernel_size=3, padding=1)\n",
    "        \n",
    "    def forward(self, x):\n",
    "        y = F.relu(self.conv1(x))\n",
    "        y = self.conv2(y)\n",
    "        # 避免梯度接近0,grad = grad +1 \n",
    "        # 算一个x+y再激活，解决梯度消失        \n",
    "        return F.relu(x + y)\n",
    "class Net(torch.nn.Module):\n",
    "    def __init__(self):\n",
    "        super(Net, self).__init__()\n",
    "        \n",
    "        self.conv1 = torch.nn.Conv2d(1, 16, kernel_size=5)\n",
    "        self.conv2 = torch.nn.Conv2d(16, 32, kernel_size=5)\n",
    "        \n",
    "        self.mp = torch.nn.MaxPool2d(2)\n",
    "        \n",
    "        self.rblock1 = ResidualBlock(16)\n",
    "        self.rblock2 = ResidualBlock(32)\n",
    "        \n",
    "        self.fc = torch.nn.Linear(512, 10)\n",
    "    def forward(self, x):\n",
    "        in_size = x.size(0)\n",
    "        # (batch,1,28,28)卷积+激活(batch,16,24,24) 池化 (batch,16,12,12)        \n",
    "        x = self.mp(F.relu(self.conv1(x)))\n",
    "        # (batch,16,12,12) 跳连接 (batch,16,12,12)        \n",
    "        x = self.rblock1(x)\n",
    "        # (batch,16,12,12) 卷积+激活 (batch,32,8,8) 池化 (batch,32,4,4)        \n",
    "        x = self.mp(F.relu(self.conv2(x)))\n",
    "        # (batch,32,4,4) 跳连接 (batch,32,4,4)        \n",
    "        x = self.rblock2(x)\n",
    "        # 改变张量形状，获得in_size*512的矩阵\n",
    "        x = x.view(in_size, -1)\n",
    "        # 全链接 512 -> 10        \n",
    "        x = self.fc(x)\n",
    "        return x\n",
    "model = Net()\n",
    "# 把计算迁移到GPU\n",
    "device = torch.device(\"cuda\" if torch.cuda.is_available() else \"cpu\")\n",
    "model.to(device)"
   ]
  },
  {
   "cell_type": "code",
   "execution_count": 4,
   "id": "aa4ae58b",
   "metadata": {},
   "outputs": [],
   "source": [
    "# 构造损失和优化器\n",
    "criterion = torch.nn.CrossEntropyLoss()\n",
    "optimizer = optim.SGD(model.parameters(), lr=0.01, momentum=0.5)# lr为学习率"
   ]
  },
  {
   "cell_type": "code",
   "execution_count": 5,
   "id": "6d597c5b",
   "metadata": {},
   "outputs": [
    {
     "name": "stdout",
     "output_type": "stream",
     "text": [
      "[1,   300] loss: 0.557\n",
      "[1,   600] loss: 0.164\n",
      "[1,   900] loss: 0.127\n",
      "accuracy on test set: 97 % \n",
      "[2,   300] loss: 0.093\n",
      "[2,   600] loss: 0.080\n",
      "[2,   900] loss: 0.074\n",
      "accuracy on test set: 98 % \n",
      "[3,   300] loss: 0.060\n",
      "[3,   600] loss: 0.060\n",
      "[3,   900] loss: 0.059\n",
      "accuracy on test set: 98 % \n",
      "[4,   300] loss: 0.048\n",
      "[4,   600] loss: 0.051\n",
      "[4,   900] loss: 0.048\n",
      "accuracy on test set: 98 % \n",
      "[5,   300] loss: 0.042\n",
      "[5,   600] loss: 0.042\n",
      "[5,   900] loss: 0.041\n",
      "accuracy on test set: 98 % \n",
      "[6,   300] loss: 0.038\n",
      "[6,   600] loss: 0.038\n",
      "[6,   900] loss: 0.034\n",
      "accuracy on test set: 98 % \n",
      "[7,   300] loss: 0.034\n",
      "[7,   600] loss: 0.031\n",
      "[7,   900] loss: 0.032\n",
      "accuracy on test set: 98 % \n",
      "[8,   300] loss: 0.030\n",
      "[8,   600] loss: 0.026\n",
      "[8,   900] loss: 0.029\n",
      "accuracy on test set: 98 % \n",
      "[9,   300] loss: 0.025\n",
      "[9,   600] loss: 0.026\n",
      "[9,   900] loss: 0.025\n",
      "accuracy on test set: 98 % \n",
      "[10,   300] loss: 0.025\n",
      "[10,   600] loss: 0.022\n",
      "[10,   900] loss: 0.022\n",
      "accuracy on test set: 98 % \n"
     ]
    },
    {
     "data": {
      "image/png": "[encoded data removed]",
      "text/plain": [
       "<Figure size 432x288 with 1 Axes>"
      ]
     },
     "metadata": {
      "needs_background": "light"
     },
     "output_type": "display_data"
    }
   ],
   "source": [
    "# 训练\n",
    " \n",
    " \n",
    "def train(epoch):\n",
    "    running_loss = 0.0\n",
    "    for batch_idx, data in enumerate(train_loader, 0):\n",
    "        inputs, target = data\n",
    "        inputs, target = inputs.to(device), target.to(device)\n",
    "        optimizer.zero_grad()\n",
    "        #  正馈        \n",
    "        outputs = model(inputs)\n",
    "        loss = criterion(outputs, target)\n",
    "        # 反馈        \n",
    "        loss.backward()\n",
    "        # 更新权重         \n",
    "        optimizer.step()\n",
    "        # 把损失加起来         \n",
    "        running_loss += loss.item()\n",
    "        #每300次输出一下数据\n",
    "        if batch_idx % 300 == 299:\n",
    "            print('[%d, %5d] loss: %.3f' % (epoch+1, batch_idx+1, running_loss/300))\n",
    "            running_loss = 0.0\n",
    " \n",
    "# 测试集\n",
    "\n",
    "def test():\n",
    "    correct = 0\n",
    "    total = 0\n",
    "    #不用算梯度    \n",
    "    with torch.no_grad():\n",
    "        for data in test_loader:\n",
    "            images, labels = data\n",
    "            images, labels = images.to(device), labels.to(device)\n",
    "            outputs = model(images)\n",
    "            # 我们取概率最大的那个数作为输出            \n",
    "            _, predicted = torch.max(outputs.data, dim=1)\n",
    "            total += labels.size(0)\n",
    "            correct += (predicted == labels).sum().item()\n",
    "    print('accuracy on test set: %d %% ' % (100*correct/total))\n",
    "    return correct/total\n",
    " \n",
    " \n",
    "if __name__ == '__main__':\n",
    "    epoch_list = []\n",
    "    acc_list = []\n",
    "    \n",
    "    for epoch in range(10):\n",
    "        train(epoch)\n",
    "        acc = test()\n",
    "        epoch_list.append(epoch)\n",
    "        acc_list.append(acc)\n",
    "    \n",
    "    plt.plot(epoch_list,acc_list)\n",
    "    plt.ylabel('accuracy')\n",
    "    plt.xlabel('epoch')\n",
    "    plt.show()"
   ]
  }
 ],
 "metadata": {
  "kernelspec": {
   "display_name": "Python 3",
   "language": "python",
   "name": "python3"
  },
  "language_info": {
   "codemirror_mode": {
    "name": "ipython",
    "version": 3
   },
   "file_extension": ".py",
   "mimetype": "text/x-python",
   "name": "python",
   "nbconvert_exporter": "python",
   "pygments_lexer": "ipython3",
   "version": "3.7.0"
  }
 },
 "nbformat": 4,
 "nbformat_minor": 5
}
